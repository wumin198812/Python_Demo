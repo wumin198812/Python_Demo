{
 "cells": [
  {
   "cell_type": "code",
   "execution_count": 2,
   "metadata": {},
   "outputs": [
    {
     "name": "stdout",
     "output_type": "stream",
     "text": [
      "https://haokan.baidu.com/v?vid=9844538361809073336\n",
      "https://vdept.bdstatic.com/37696e745a3777457461323137776454/476a72334671554a/82ab7b7b669e083dc4853922f1c060ed4c83bb0de0df52edc40586f9a645540aa435598975061c7d029d178d477a1ad5.mp4?auth_key=1590217157-0-0-c280279179b29373e010d4d92c2f6a37\n",
      "下载完成\n",
      "https://haokan.baidu.com/v?vid=12820636165394415185\n",
      "https://vdept.bdstatic.com/463259787557734a666b3268364b4141/45454a54526d5050/265efc6f93b42a196030d801e15ec512c73c274d6b0a884d5f98c56440a3b13f058cde3f89de5a9c88d77127ab024780d0702505b5e7205675e4f0227ec6d1f8.mp4?auth_key=1590217161-0-0-fb8c2a16f6f8d71a9c576f567c3ab928\n",
      "下载完成\n",
      "https://haokan.baidu.com/v?vid=8627035331917089871\n",
      "https://vdept.bdstatic.com/554b316a644d5543726a4a77664a4b66/7a6a7a4757384362/a108c6267ac17a3f6d1679441e38d5c29047928a0dee439f820eaf748b7cabfca988ed931101fead13c84ad3c2f6483e.mp4?auth_key=1590217174-0-0-41b735d5465ca79b5715e52d67c488dc\n",
      "下载完成\n",
      "https://haokan.baidu.com/v?vid=4951629977958578280\n",
      "https://vdept.bdstatic.com/7535696c567a3362417a6165517a6544/5547676d69457a66/ff71d133de45633dd24bbf95582bb1c71d8de392552dfbbaca774b903b455c8b125c7a182607460936ee9164aaa3b254048ea6b7d37e9715eb68a214b9dee482.mp4?auth_key=1590217192-0-0-503e233e17710f3ad37c1c664d7ea06d\n",
      "下载完成\n",
      "https://haokan.baidu.com/v?vid=5675475464186190591\n",
      "https://vdept.bdstatic.com/585a784c5247323171336a716d6d4961/6d62516271524359/5c208f5dbcff88eee5c444644099bb52bc45a3ce8d6ef104f0a165daf2b6224e8b7ba3c305f746620c4519329ddd6720.mp4?auth_key=1590217196-0-0-021d1425bb0c542b517a445e2217e043\n",
      "下载完成\n",
      "https://haokan.baidu.com/v?vid=6364956747056231212\n",
      "https://vdept.bdstatic.com/7543793871395a5a454c34757a346447/685257686d49436c/bff5f69a4278dba6defcbde4a9053e97879ac6172023d6baaa8f2be6b0b371dc0aa76b4333b48478b8a7ff250ca982e9c82f26455adfde2a142a51a21574ace4.mp4?auth_key=1590217201-0-0-dbcf12651138cae8a8c76204c90d4f2e\n",
      "下载完成\n",
      "https://haokan.baidu.com/v?vid=7268442626078876844\n",
      "https://vdept.bdstatic.com/55626870324967724552335459667464/41345a773271335a/55b7ee94bc53721213af09530ac744959edecaf1c39c289c7140e8ede4d8708fbdac28b11891f6f600483fa2f48a6167.mp4?auth_key=1590217209-0-0-d279d95a98199e3a8be7c7f072260b6d\n",
      "下载完成\n",
      "https://haokan.baidu.com/v?vid=5489192328348384692\n",
      "https://vdept.bdstatic.com/416d627a773646633639333641524658/4b3662495831414a/c94ebccf606852b925de48e11ac7c22efe51d8465b67737a45e607a660fe4fd74e19ac05af21224cfa9dcefa0b8f01e7.mp4?auth_key=1590217212-0-0-62e230ad6eeb5ef26d74844c82d7fe56\n",
      "下载完成\n",
      "https://haokan.baidu.com/v?vid=13944692809335689421\n",
      "https://vdept.bdstatic.com/73497552516e7068734a534867756d35/574b51516e38664c/42de0de5aecea4593fac9d9c3f7d1baaaf5699f3ffd9342b3309efec298bbf3c568b584b2ae299a9e2407c7654a920df.mp4?auth_key=1590217216-0-0-2906794d539b37098fb9597516ff9457\n",
      "下载完成\n",
      "https://haokan.baidu.com/v?vid=16516494949405515771\n",
      "https://vdept.bdstatic.com/5a417447434e674c7758753465697356/33677a4e57704237/11517182d87b49c916be8e8508b99e13b0bbcdc31d726ad008fb44063bfde508257236392bf1c0a0f7af1601eaacf94b.mp4?auth_key=1590217220-0-0-0fb7723814c11643877c32c371df0d47\n",
      "下载完成\n"
     ]
    }
   ],
   "source": [
    "import requests\n",
    "import json\n",
    "from lxml import etree\n",
    "headers = {'User-Agent': 'Mozilla/5.0 (Windows NT 6.1; Win64; x64) AppleWebKit/537.36 (KHTML, like Gecko) Chrome/63.0.3239.108 Safari/537.36'}\n",
    "url=\"https://haokan.baidu.com/videoui/page/search?pn=2&rn=10&_format=json&tab=video&query=python\"\n",
    "res=requests.get(url,headers=headers)\n",
    "data=json.loads(res.text)\n",
    "lists=data['data']['response']['list']\n",
    "for list in lists:\n",
    "#     print(list['title'],list['url'])\n",
    "    url1=list['url']\n",
    "    video_title=list['title']+ '.mp4'\n",
    "    print(url1)\n",
    "    video_html=requests.get(url1,headers=headers)\n",
    "    data1=etree.HTML(video_html.text)\n",
    "    video_url=data1.xpath('//video/@src')\n",
    "    for i in video_url:\n",
    "        video_data=requests.get(i,headers=headers,timeout=3).content\n",
    "#         video_datas=video_data.content\n",
    "        print (i)\n",
    "        with open(video_title,'wb') as f:\n",
    "            f.write(video_data)\n",
    "            print(\"下载完成\")\n",
    "        \n",
    "        \n",
    "    "
   ]
  },
  {
   "cell_type": "code",
   "execution_count": null,
   "metadata": {},
   "outputs": [],
   "source": []
  }
 ],
 "metadata": {
  "kernelspec": {
   "display_name": "Python 3",
   "language": "python",
   "name": "python3"
  },
  "language_info": {
   "codemirror_mode": {
    "name": "ipython",
    "version": 3
   },
   "file_extension": ".py",
   "mimetype": "text/x-python",
   "name": "python",
   "nbconvert_exporter": "python",
   "pygments_lexer": "ipython3",
   "version": "3.7.0"
  }
 },
 "nbformat": 4,
 "nbformat_minor": 4
}
