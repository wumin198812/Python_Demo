{
 "cells": [
  {
   "cell_type": "markdown",
   "metadata": {},
   "source": [
    "### 导入各种需要的库文件&定义请求头"
   ]
  },
  {
   "cell_type": "code",
   "execution_count": null,
   "metadata": {},
   "outputs": [],
   "source": [
    "# IP地址取自国内髙匿代理IP网站：http://www.xicidaili.com/nn/\n",
    "# 仅仅爬取首页IP地址就足够一般使用\n",
    " \n",
    "from bs4 import BeautifulSoup\n",
    "import requests\n",
    "import random\n",
    "import time\n",
    "headers = {'User-Agent': 'Mozilla/5.0 (Windows NT 6.1; Win64; x64) AppleWebKit/537.36 (KHTML, like Gecko) Chrome/63.0.3239.108 Safari/537.36'}\n",
    "myproxy={'https':'27.184.146.96:8118'}"
   ]
  },
  {
   "cell_type": "markdown",
   "metadata": {},
   "source": [
    "### 定义获取IP列表的函数&包含IP检测"
   ]
  },
  {
   "cell_type": "code",
   "execution_count": null,
   "metadata": {},
   "outputs": [],
   "source": [
    "# myproxy={'https':'27.184.146.96:8118'}\n",
    "# def getHTMLText(url,proxies):\n",
    "#     try:\n",
    "#         r = requests.get(url,proxies=myproxy)\n",
    "#         r.raise_for_status()\n",
    "#         r.encoding = r.apparent_encoding\n",
    "#     except:\n",
    "#         return 0\n",
    "#     else:\n",
    "#         return r.text\n",
    "def get_ip_list(url):\n",
    "    web_data = requests.get(url,headers=headers,proxies=myproxy)\n",
    "    soup = BeautifulSoup(web_data.text, 'html')\n",
    "    ips = soup.find_all('tr')\n",
    "#     print(ips)\n",
    "    ip_list = []\n",
    "    for i in range(1, len(ips)):\n",
    "        ip_dict={}\n",
    "        ip_info = ips[i]\n",
    "        tds = ip_info.find_all('td')\n",
    "        http1=tds[5].text\n",
    "        ip1=tds[1].text + ':' + tds[2].text\n",
    "        ip_dict[http1]=ip1\n",
    "        ip_list.append(ip_dict)\n",
    "    print(ip_list)\n",
    "    return ip_list\n",
    "# 检测ip可用性，移除不可用ip：（这里其实总会出问题，你移除的ip可能只是暂时不能用，剩下的ip使用一次后可能之后也未必能用）"
   ]
  },
  {
   "cell_type": "markdown",
   "metadata": {},
   "source": [
    "### 检测IP可用性"
   ]
  },
  {
   "cell_type": "code",
   "execution_count": null,
   "metadata": {
    "scrolled": true
   },
   "outputs": [],
   "source": [
    "def check_ip():    \n",
    "    ip_lists=[]\n",
    "    for ip in ip_list:\n",
    "        try:\n",
    "          res = requests.get(url1,proxies=ip,headers=headers,timeout=1)\n",
    "        except Exception as e:\n",
    "          ip_lists.remove(ip)\n",
    "          continue\n",
    "    return ip_lists"
   ]
  },
  {
   "cell_type": "markdown",
   "metadata": {},
   "source": [
    "### 定义随机获取IP的函数"
   ]
  },
  {
   "cell_type": "code",
   "execution_count": null,
   "metadata": {},
   "outputs": [],
   "source": [
    "def get_random_ip(ip_lists):\n",
    "    proxy_list = []\n",
    "    for ip in ip_list:\n",
    "        proxy_list.append(ip)\n",
    "    proxy_ip = random.choice(proxy_list)\n",
    "    print(proxy_ip)\n",
    "    return proxy_ip"
   ]
  },
  {
   "cell_type": "markdown",
   "metadata": {},
   "source": [
    "### 定义主函数main"
   ]
  },
  {
   "cell_type": "code",
   "execution_count": null,
   "metadata": {},
   "outputs": [],
   "source": [
    "def main():   \n",
    "    url = 'http://www.xicidaili.com/nn/'\n",
    "    for i in range(1,10):\n",
    "        urls=url+str(i)\n",
    "        ip_list = get_ip_list(urls)\n",
    "#         print('IP列表：',ip_list)\n",
    "    proxies = get_random_ip(ip_list)\n",
    "    print(proxies)\n",
    "    return proxies"
   ]
  },
  {
   "cell_type": "markdown",
   "metadata": {},
   "source": [
    "### 程序入口，初始化函数，调用主函数main"
   ]
  },
  {
   "cell_type": "code",
   "execution_count": null,
   "metadata": {
    "scrolled": true
   },
   "outputs": [],
   "source": [
    "if __name__ == '__main__':\n",
    "    main()\n",
    "    time.sleep(10)\n",
    "#     proxies = get_random_ip(ip_list)\n",
    "#     print(proxies)\n",
    "    "
   ]
  },
  {
   "cell_type": "code",
   "execution_count": null,
   "metadata": {},
   "outputs": [],
   "source": []
  }
 ],
 "metadata": {
  "kernelspec": {
   "display_name": "Python 3",
   "language": "python",
   "name": "python3"
  },
  "language_info": {
   "codemirror_mode": {
    "name": "ipython",
    "version": 3
   },
   "file_extension": ".py",
   "mimetype": "text/x-python",
   "name": "python",
   "nbconvert_exporter": "python",
   "pygments_lexer": "ipython3",
   "version": "3.7.0"
  }
 },
 "nbformat": 4,
 "nbformat_minor": 4
}
