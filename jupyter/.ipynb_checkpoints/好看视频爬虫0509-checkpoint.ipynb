{
 "cells": [
  {
   "cell_type": "code",
   "execution_count": 1,
   "metadata": {},
   "outputs": [
    {
     "name": "stdout",
     "output_type": "stream",
     "text": [
      "https://haokan.baidu.com/v?vid=11434829266285664270\n",
      "https://vdept.bdstatic.com/55326466445073395637704457506647/3368577737475155/3c68670ec2d01f5fe619aaebf89bdee7a5e3dcb1f865b92bc9a09efe21ad862231795b6237bf03f5c6d901594d7cabe5.mp4?auth_key=1590217062-0-0-fdff84160bb5dfd80dae04ac6e4cbbe7\n"
     ]
    },
    {
     "ename": "FileNotFoundError",
     "evalue": "[Errno 2] No such file or directory: 'video\\\\python之旅:产品经理与程序员的梗,应该是从它开始逐步爆发.mp4'",
     "output_type": "error",
     "traceback": [
      "\u001b[1;31m---------------------------------------------------------------------------\u001b[0m",
      "\u001b[1;31mFileNotFoundError\u001b[0m                         Traceback (most recent call last)",
      "\u001b[1;32m<ipython-input-1-0cca51102822>\u001b[0m in \u001b[0;36m<module>\u001b[1;34m\u001b[0m\n\u001b[0;32m     19\u001b[0m \u001b[1;31m#         video_datas=video_data.content\u001b[0m\u001b[1;33m\u001b[0m\u001b[1;33m\u001b[0m\u001b[0m\n\u001b[0;32m     20\u001b[0m         \u001b[0mprint\u001b[0m \u001b[1;33m(\u001b[0m\u001b[0mi\u001b[0m\u001b[1;33m)\u001b[0m\u001b[1;33m\u001b[0m\u001b[0m\n\u001b[1;32m---> 21\u001b[1;33m         \u001b[1;32mwith\u001b[0m \u001b[0mopen\u001b[0m\u001b[1;33m(\u001b[0m\u001b[1;34m'video\\\\'\u001b[0m\u001b[1;33m+\u001b[0m\u001b[0mvideo_title\u001b[0m\u001b[1;33m,\u001b[0m\u001b[1;34m'wb'\u001b[0m\u001b[1;33m)\u001b[0m \u001b[1;32mas\u001b[0m \u001b[0mf\u001b[0m\u001b[1;33m:\u001b[0m\u001b[1;33m\u001b[0m\u001b[0m\n\u001b[0m\u001b[0;32m     22\u001b[0m             \u001b[0mf\u001b[0m\u001b[1;33m.\u001b[0m\u001b[0mwrite\u001b[0m\u001b[1;33m(\u001b[0m\u001b[0mvideo_data\u001b[0m\u001b[1;33m)\u001b[0m\u001b[1;33m\u001b[0m\u001b[0m\n\u001b[0;32m     23\u001b[0m             \u001b[0mprint\u001b[0m\u001b[1;33m(\u001b[0m\u001b[1;34m\"下载完成\"\u001b[0m\u001b[1;33m)\u001b[0m\u001b[1;33m\u001b[0m\u001b[0m\n",
      "\u001b[1;31mFileNotFoundError\u001b[0m: [Errno 2] No such file or directory: 'video\\\\python之旅:产品经理与程序员的梗,应该是从它开始逐步爆发.mp4'"
     ]
    }
   ],
   "source": [
    "import requests\n",
    "import json\n",
    "from lxml import etree\n",
    "headers = {'User-Agent': 'Mozilla/5.0 (Windows NT 6.1; Win64; x64) AppleWebKit/537.36 (KHTML, like Gecko) Chrome/63.0.3239.108 Safari/537.36'}\n",
    "url=\"https://haokan.baidu.com/videoui/page/search?pn=2&rn=10&_format=json&tab=video&query=python\"\n",
    "res=requests.get(url,headers=headers)\n",
    "data=json.loads(res.text)\n",
    "lists=data['data']['response']['list']\n",
    "for list in lists:\n",
    "#     print(list['title'],list['url'])\n",
    "    url1=list['url']\n",
    "    video_title=list['title']+ '.mp4'\n",
    "    print(url1)\n",
    "    video_html=requests.get(url1,headers=headers)\n",
    "    data1=etree.HTML(video_html.text)\n",
    "    video_url=data1.xpath('//video/@src')\n",
    "    for i in video_url:\n",
    "        video_data=requests.get(i,headers=headers,timeout=3).content\n",
    "#         video_datas=video_data.content\n",
    "        print (i)\n",
    "        with open(video_title,'wb') as f:\n",
    "            f.write(video_data)\n",
    "            print(\"下载完成\")\n",
    "        \n",
    "        \n",
    "    "
   ]
  },
  {
   "cell_type": "code",
   "execution_count": null,
   "metadata": {},
   "outputs": [],
   "source": []
  }
 ],
 "metadata": {
  "kernelspec": {
   "display_name": "Python 3",
   "language": "python",
   "name": "python3"
  },
  "language_info": {
   "codemirror_mode": {
    "name": "ipython",
    "version": 3
   },
   "file_extension": ".py",
   "mimetype": "text/x-python",
   "name": "python",
   "nbconvert_exporter": "python",
   "pygments_lexer": "ipython3",
   "version": "3.7.0"
  }
 },
 "nbformat": 4,
 "nbformat_minor": 4
}
