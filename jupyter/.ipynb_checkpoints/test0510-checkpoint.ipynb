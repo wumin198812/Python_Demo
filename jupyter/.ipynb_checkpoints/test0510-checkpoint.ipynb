{
 "cells": [
  {
   "cell_type": "code",
   "execution_count": 13,
   "metadata": {},
   "outputs": [
    {
     "name": "stdout",
     "output_type": "stream",
     "text": [
      "for中a的值： 1\n",
      "主函数中a: 1\n"
     ]
    }
   ],
   "source": [
    "def get_i(i):\n",
    "    for a in i:\n",
    "        print('for中a的值：',a)\n",
    "    return a\n",
    "if __name__ == '__main__':\n",
    "    i=[1,2,3]\n",
    "    a=get_i(i)\n",
    "    print(\"主函数中a:\",a)"
   ]
  },
  {
   "cell_type": "code",
   "execution_count": null,
   "metadata": {},
   "outputs": [],
   "source": []
  }
 ],
 "metadata": {
  "kernelspec": {
   "display_name": "Python 3",
   "language": "python",
   "name": "python3"
  },
  "language_info": {
   "codemirror_mode": {
    "name": "ipython",
    "version": 3
   },
   "file_extension": ".py",
   "mimetype": "text/x-python",
   "name": "python",
   "nbconvert_exporter": "python",
   "pygments_lexer": "ipython3",
   "version": "3.7.0"
  }
 },
 "nbformat": 4,
 "nbformat_minor": 4
}
